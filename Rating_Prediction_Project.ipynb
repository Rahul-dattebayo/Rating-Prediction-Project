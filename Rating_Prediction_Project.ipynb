{
 "cells": [
  {
   "cell_type": "code",
   "execution_count": 1,
   "metadata": {
    "id": "0ESM9_tc_v76"
   },
   "outputs": [],
   "source": [
    "import pandas as pd"
   ]
  },
  {
   "cell_type": "code",
   "execution_count": 2,
   "metadata": {
    "colab": {
     "base_uri": "https://localhost:8080/",
     "height": 90,
     "resources": {
      "http://localhost:8080/nbextensions/google.colab/files.js": {
       "data": "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",
       "headers": [
        [
         "content-type",
         "application/javascript"
        ]
       ],
       "ok": true,
       "status": 200,
       "status_text": ""
      }
     }
    },
    "id": "G1o-7xIb_0im",
    "outputId": "02a8bb1c-8680-4850-ca81-2d15b0021d99"
   },
   "outputs": [
    {
     "data": {
      "text/html": [
       "\n",
       "     <input type=\"file\" id=\"files-71fa7357-5d71-42a8-926b-aa8382c8f01f\" name=\"files[]\" multiple disabled\n",
       "        style=\"border:none\" />\n",
       "     <output id=\"result-71fa7357-5d71-42a8-926b-aa8382c8f01f\">\n",
       "      Upload widget is only available when the cell has been executed in the\n",
       "      current browser session. Please rerun this cell to enable.\n",
       "      </output>\n",
       "      <script src=\"/nbextensions/google.colab/files.js\"></script> "
      ],
      "text/plain": [
       "<IPython.core.display.HTML object>"
      ]
     },
     "metadata": {
      "tags": []
     },
     "output_type": "display_data"
    },
    {
     "name": "stdout",
     "output_type": "stream",
     "text": [
      "Saving Rating_Prediction_final.csv to Rating_Prediction_final.csv\n"
     ]
    }
   ],
   "source": [
    "from google.colab import files\n",
    "  \n",
    "  \n",
    "rat = files.upload()"
   ]
  },
  {
   "cell_type": "code",
   "execution_count": 3,
   "metadata": {
    "colab": {
     "base_uri": "https://localhost:8080/"
    },
    "id": "XTg09yAkENht",
    "outputId": "64bbd9e2-058a-4723-ee19-afd80a9a69ff"
   },
   "outputs": [
    {
     "name": "stdout",
     "output_type": "stream",
     "text": [
      "                                                 reviews  ratings\n",
      "0      Camera is not that good but the performance wi...        4\n",
      "1      Best for high end graphic games. PUBG is avail...        4\n",
      "2                                  Best quality products        5\n",
      "3                         Value for money..... but heavy        5\n",
      "4      Camera quality & performance is good.. feature...        4\n",
      "...                                                  ...      ...\n",
      "35709                                         Nice phone        3\n",
      "35710                                 Superb quality ❤️👍        5\n",
      "35711                                  Value for money 💰        5\n",
      "35712                               Worst battery pickup        1\n",
      "35713                                  Very nice product        5\n",
      "\n",
      "[35714 rows x 2 columns]\n"
     ]
    }
   ],
   "source": [
    "import pandas as pd\n",
    "import io\n",
    "  \n",
    "rat = pd.read_csv('Rating_Prediction_final.csv')\n",
    "print(rat)"
   ]
  },
  {
   "cell_type": "code",
   "execution_count": 4,
   "metadata": {
    "colab": {
     "base_uri": "https://localhost:8080/"
    },
    "id": "m1gu8t6ZEe73",
    "outputId": "382a2521-0f50-459d-f63d-51132f435049"
   },
   "outputs": [
    {
     "data": {
      "text/plain": [
       "reviews    0\n",
       "ratings    0\n",
       "dtype: int64"
      ]
     },
     "execution_count": 4,
     "metadata": {
      "tags": []
     },
     "output_type": "execute_result"
    }
   ],
   "source": [
    "rat.isnull().sum()"
   ]
  },
  {
   "cell_type": "markdown",
   "metadata": {
    "id": "cFI4x3Q1EqwW"
   },
   "source": [
    "Fortunately there is no null values present in the data."
   ]
  },
  {
   "cell_type": "markdown",
   "metadata": {
    "id": "VljinyAUE4yw"
   },
   "source": [
    "### **Text Preprocessing**"
   ]
  },
  {
   "cell_type": "markdown",
   "metadata": {
    "id": "mZfs9yawFU8M"
   },
   "source": [
    "The preprocessing involves following changes:\n",
    "\n",
    "1) URLs, as the people tend to spam the section with irrelevant urls, we need to get rid of those for better modelling.\n",
    "\n",
    "2) Numbers and Punctuation: We don't need those as they hardly add up any info in the end.\n",
    "\n",
    "3) Converting the text into lowercase as it will bring the uniform nature to it.\n",
    "\n",
    "4) Tokenize the data to:\n",
    "\n",
    "    i) Remove stopwords (The words which don't add up anymore than the rest.)\n",
    "\n",
    "    ii) Stemming and Lammatization (Methods to reduce the noise and extra info from the data)\n",
    "\n",
    "    iii) Remove the words having length <= 2\n",
    "\n",
    "5) Convert the list of tokens into back to the string"
   ]
  },
  {
   "cell_type": "markdown",
   "metadata": {
    "id": "a-uT9zPpFfQe"
   },
   "source": [
    "### 1) Removing URLs"
   ]
  },
  {
   "cell_type": "code",
   "execution_count": 5,
   "metadata": {
    "id": "PVmzbTKxFJ-H"
   },
   "outputs": [],
   "source": [
    "import re\n",
    "\n",
    "def clean_url(review_text):\n",
    "    return re.sub(r'http\\S+', '', review_text) #The format of the websites are cliche, those can be removed if we figure how they are structured in general.\n",
    "\n",
    "rat['cleanreview'] = rat['reviews'].apply(clean_url)"
   ]
  },
  {
   "cell_type": "markdown",
   "metadata": {
    "id": "tFFa99KsFnja"
   },
   "source": [
    "### **2) Numbers and Punctuations off the data**"
   ]
  },
  {
   "cell_type": "code",
   "execution_count": 6,
   "metadata": {
    "id": "3b2F38vSFhqz"
   },
   "outputs": [],
   "source": [
    "def cleandata(review_text):\n",
    "    return re.sub('[^a-zA-Z]', ' ', review_text) #It removes [!”#$%...] such punctuations and [0-9] numbers\n",
    "\n",
    "rat['cleanreview'] = rat['cleanreview'].apply(cleandata)"
   ]
  },
  {
   "cell_type": "code",
   "execution_count": 7,
   "metadata": {
    "colab": {
     "base_uri": "https://localhost:8080/",
     "height": 464
    },
    "id": "WyfM-vGyFpvR",
    "outputId": "eaadd0ec-a5ac-4c6f-f767-b2c27e84418d"
   },
   "outputs": [
    {
     "data": {
      "text/html": [
       "<div>\n",
       "<style scoped>\n",
       "    .dataframe tbody tr th:only-of-type {\n",
       "        vertical-align: middle;\n",
       "    }\n",
       "\n",
       "    .dataframe tbody tr th {\n",
       "        vertical-align: top;\n",
       "    }\n",
       "\n",
       "    .dataframe thead th {\n",
       "        text-align: right;\n",
       "    }\n",
       "</style>\n",
       "<table border=\"1\" class=\"dataframe\">\n",
       "  <thead>\n",
       "    <tr style=\"text-align: right;\">\n",
       "      <th></th>\n",
       "      <th>reviews</th>\n",
       "      <th>ratings</th>\n",
       "      <th>cleanreview</th>\n",
       "    </tr>\n",
       "  </thead>\n",
       "  <tbody>\n",
       "    <tr>\n",
       "      <th>0</th>\n",
       "      <td>Camera is not that good but the performance wi...</td>\n",
       "      <td>4</td>\n",
       "      <td>Camera is not that good but the performance wi...</td>\n",
       "    </tr>\n",
       "    <tr>\n",
       "      <th>1</th>\n",
       "      <td>Best for high end graphic games. PUBG is avail...</td>\n",
       "      <td>4</td>\n",
       "      <td>Best for high end graphic games  PUBG is avail...</td>\n",
       "    </tr>\n",
       "    <tr>\n",
       "      <th>2</th>\n",
       "      <td>Best quality products</td>\n",
       "      <td>5</td>\n",
       "      <td>Best quality products</td>\n",
       "    </tr>\n",
       "    <tr>\n",
       "      <th>3</th>\n",
       "      <td>Value for money..... but heavy</td>\n",
       "      <td>5</td>\n",
       "      <td>Value for money      but heavy</td>\n",
       "    </tr>\n",
       "    <tr>\n",
       "      <th>4</th>\n",
       "      <td>Camera quality &amp; performance is good.. feature...</td>\n",
       "      <td>4</td>\n",
       "      <td>Camera quality   performance is good   feature...</td>\n",
       "    </tr>\n",
       "    <tr>\n",
       "      <th>...</th>\n",
       "      <td>...</td>\n",
       "      <td>...</td>\n",
       "      <td>...</td>\n",
       "    </tr>\n",
       "    <tr>\n",
       "      <th>35709</th>\n",
       "      <td>Nice phone</td>\n",
       "      <td>3</td>\n",
       "      <td>Nice phone</td>\n",
       "    </tr>\n",
       "    <tr>\n",
       "      <th>35710</th>\n",
       "      <td>Superb quality ❤️👍</td>\n",
       "      <td>5</td>\n",
       "      <td>Superb quality</td>\n",
       "    </tr>\n",
       "    <tr>\n",
       "      <th>35711</th>\n",
       "      <td>Value for money 💰</td>\n",
       "      <td>5</td>\n",
       "      <td>Value for money</td>\n",
       "    </tr>\n",
       "    <tr>\n",
       "      <th>35712</th>\n",
       "      <td>Worst battery pickup</td>\n",
       "      <td>1</td>\n",
       "      <td>Worst battery pickup</td>\n",
       "    </tr>\n",
       "    <tr>\n",
       "      <th>35713</th>\n",
       "      <td>Very nice product</td>\n",
       "      <td>5</td>\n",
       "      <td>Very nice product</td>\n",
       "    </tr>\n",
       "  </tbody>\n",
       "</table>\n",
       "<p>35714 rows × 3 columns</p>\n",
       "</div>"
      ],
      "text/plain": [
       "                                                 reviews  ...                                        cleanreview\n",
       "0      Camera is not that good but the performance wi...  ...  Camera is not that good but the performance wi...\n",
       "1      Best for high end graphic games. PUBG is avail...  ...  Best for high end graphic games  PUBG is avail...\n",
       "2                                  Best quality products  ...                              Best quality products\n",
       "3                         Value for money..... but heavy  ...                     Value for money      but heavy\n",
       "4      Camera quality & performance is good.. feature...  ...  Camera quality   performance is good   feature...\n",
       "...                                                  ...  ...                                                ...\n",
       "35709                                         Nice phone  ...                                         Nice phone\n",
       "35710                                 Superb quality ❤️👍  ...                                 Superb quality    \n",
       "35711                                  Value for money 💰  ...                                  Value for money  \n",
       "35712                               Worst battery pickup  ...                               Worst battery pickup\n",
       "35713                                  Very nice product  ...                                  Very nice product\n",
       "\n",
       "[35714 rows x 3 columns]"
      ]
     },
     "execution_count": 7,
     "metadata": {
      "tags": []
     },
     "output_type": "execute_result"
    }
   ],
   "source": [
    "rat"
   ]
  },
  {
   "cell_type": "markdown",
   "metadata": {
    "id": "hoF0wQ0RFziL"
   },
   "source": [
    "The emojis, punctuations are clearly gone above, the former are replaced with the spaces."
   ]
  },
  {
   "cell_type": "markdown",
   "metadata": {
    "id": "X24vyEZlF29Y"
   },
   "source": [
    "### 3) Convert to LowerCase"
   ]
  },
  {
   "cell_type": "code",
   "execution_count": 8,
   "metadata": {
    "id": "PzYcip7SF1bT"
   },
   "outputs": [],
   "source": [
    "def lowercase(review_text):\n",
    "    return str(review_text).lower()\n",
    "\n",
    "rat['cleanreview'] = rat['cleanreview'].apply(lowercase)"
   ]
  },
  {
   "cell_type": "code",
   "execution_count": 9,
   "metadata": {
    "colab": {
     "base_uri": "https://localhost:8080/",
     "height": 464
    },
    "id": "OomgnJZ2F4Lt",
    "outputId": "b3f968d1-7ebf-43d3-f8b6-20c5597a3299"
   },
   "outputs": [
    {
     "data": {
      "text/html": [
       "<div>\n",
       "<style scoped>\n",
       "    .dataframe tbody tr th:only-of-type {\n",
       "        vertical-align: middle;\n",
       "    }\n",
       "\n",
       "    .dataframe tbody tr th {\n",
       "        vertical-align: top;\n",
       "    }\n",
       "\n",
       "    .dataframe thead th {\n",
       "        text-align: right;\n",
       "    }\n",
       "</style>\n",
       "<table border=\"1\" class=\"dataframe\">\n",
       "  <thead>\n",
       "    <tr style=\"text-align: right;\">\n",
       "      <th></th>\n",
       "      <th>reviews</th>\n",
       "      <th>ratings</th>\n",
       "      <th>cleanreview</th>\n",
       "    </tr>\n",
       "  </thead>\n",
       "  <tbody>\n",
       "    <tr>\n",
       "      <th>0</th>\n",
       "      <td>Camera is not that good but the performance wi...</td>\n",
       "      <td>4</td>\n",
       "      <td>camera is not that good but the performance wi...</td>\n",
       "    </tr>\n",
       "    <tr>\n",
       "      <th>1</th>\n",
       "      <td>Best for high end graphic games. PUBG is avail...</td>\n",
       "      <td>4</td>\n",
       "      <td>best for high end graphic games  pubg is avail...</td>\n",
       "    </tr>\n",
       "    <tr>\n",
       "      <th>2</th>\n",
       "      <td>Best quality products</td>\n",
       "      <td>5</td>\n",
       "      <td>best quality products</td>\n",
       "    </tr>\n",
       "    <tr>\n",
       "      <th>3</th>\n",
       "      <td>Value for money..... but heavy</td>\n",
       "      <td>5</td>\n",
       "      <td>value for money      but heavy</td>\n",
       "    </tr>\n",
       "    <tr>\n",
       "      <th>4</th>\n",
       "      <td>Camera quality &amp; performance is good.. feature...</td>\n",
       "      <td>4</td>\n",
       "      <td>camera quality   performance is good   feature...</td>\n",
       "    </tr>\n",
       "    <tr>\n",
       "      <th>...</th>\n",
       "      <td>...</td>\n",
       "      <td>...</td>\n",
       "      <td>...</td>\n",
       "    </tr>\n",
       "    <tr>\n",
       "      <th>35709</th>\n",
       "      <td>Nice phone</td>\n",
       "      <td>3</td>\n",
       "      <td>nice phone</td>\n",
       "    </tr>\n",
       "    <tr>\n",
       "      <th>35710</th>\n",
       "      <td>Superb quality ❤️👍</td>\n",
       "      <td>5</td>\n",
       "      <td>superb quality</td>\n",
       "    </tr>\n",
       "    <tr>\n",
       "      <th>35711</th>\n",
       "      <td>Value for money 💰</td>\n",
       "      <td>5</td>\n",
       "      <td>value for money</td>\n",
       "    </tr>\n",
       "    <tr>\n",
       "      <th>35712</th>\n",
       "      <td>Worst battery pickup</td>\n",
       "      <td>1</td>\n",
       "      <td>worst battery pickup</td>\n",
       "    </tr>\n",
       "    <tr>\n",
       "      <th>35713</th>\n",
       "      <td>Very nice product</td>\n",
       "      <td>5</td>\n",
       "      <td>very nice product</td>\n",
       "    </tr>\n",
       "  </tbody>\n",
       "</table>\n",
       "<p>35714 rows × 3 columns</p>\n",
       "</div>"
      ],
      "text/plain": [
       "                                                 reviews  ...                                        cleanreview\n",
       "0      Camera is not that good but the performance wi...  ...  camera is not that good but the performance wi...\n",
       "1      Best for high end graphic games. PUBG is avail...  ...  best for high end graphic games  pubg is avail...\n",
       "2                                  Best quality products  ...                              best quality products\n",
       "3                         Value for money..... but heavy  ...                     value for money      but heavy\n",
       "4      Camera quality & performance is good.. feature...  ...  camera quality   performance is good   feature...\n",
       "...                                                  ...  ...                                                ...\n",
       "35709                                         Nice phone  ...                                         nice phone\n",
       "35710                                 Superb quality ❤️👍  ...                                 superb quality    \n",
       "35711                                  Value for money 💰  ...                                  value for money  \n",
       "35712                               Worst battery pickup  ...                               worst battery pickup\n",
       "35713                                  Very nice product  ...                                  very nice product\n",
       "\n",
       "[35714 rows x 3 columns]"
      ]
     },
     "execution_count": 9,
     "metadata": {
      "tags": []
     },
     "output_type": "execute_result"
    }
   ],
   "source": [
    "rat"
   ]
  },
  {
   "cell_type": "markdown",
   "metadata": {
    "id": "AAcnn4xFGEu2"
   },
   "source": [
    "All the capital letters have been converted to lower case."
   ]
  },
  {
   "cell_type": "code",
   "execution_count": 10,
   "metadata": {
    "colab": {
     "base_uri": "https://localhost:8080/"
    },
    "id": "tRcWs9enGGqT",
    "outputId": "63c31ad5-953c-48d9-fa27-1548756d76e4"
   },
   "outputs": [
    {
     "name": "stdout",
     "output_type": "stream",
     "text": [
      "[nltk_data] Downloading package punkt to /root/nltk_data...\n",
      "[nltk_data]   Unzipping tokenizers/punkt.zip.\n"
     ]
    },
    {
     "data": {
      "text/plain": [
       "True"
      ]
     },
     "execution_count": 10,
     "metadata": {
      "tags": []
     },
     "output_type": "execute_result"
    }
   ],
   "source": [
    "  >>> import nltk\n",
    "  >>> nltk.download('punkt')"
   ]
  },
  {
   "cell_type": "markdown",
   "metadata": {
    "id": "BVMWQkCPGKBs"
   },
   "source": [
    "### 4) Tokenization"
   ]
  },
  {
   "cell_type": "code",
   "execution_count": 11,
   "metadata": {
    "id": "j05MwbbcGYMW"
   },
   "outputs": [],
   "source": [
    "import nltk\n",
    "from nltk.tokenize import word_tokenize\n",
    "\n",
    "def token(review_text):\n",
    "    return word_tokenize(review_text)\n",
    "\n",
    "rat['cleanreview'] = rat['cleanreview'].apply(token)"
   ]
  },
  {
   "cell_type": "code",
   "execution_count": 12,
   "metadata": {
    "colab": {
     "base_uri": "https://localhost:8080/",
     "height": 464
    },
    "id": "UDk-6uKZGnMr",
    "outputId": "a49221f2-6225-4161-b5e7-a9993ac148c4"
   },
   "outputs": [
    {
     "data": {
      "text/html": [
       "<div>\n",
       "<style scoped>\n",
       "    .dataframe tbody tr th:only-of-type {\n",
       "        vertical-align: middle;\n",
       "    }\n",
       "\n",
       "    .dataframe tbody tr th {\n",
       "        vertical-align: top;\n",
       "    }\n",
       "\n",
       "    .dataframe thead th {\n",
       "        text-align: right;\n",
       "    }\n",
       "</style>\n",
       "<table border=\"1\" class=\"dataframe\">\n",
       "  <thead>\n",
       "    <tr style=\"text-align: right;\">\n",
       "      <th></th>\n",
       "      <th>reviews</th>\n",
       "      <th>ratings</th>\n",
       "      <th>cleanreview</th>\n",
       "    </tr>\n",
       "  </thead>\n",
       "  <tbody>\n",
       "    <tr>\n",
       "      <th>0</th>\n",
       "      <td>Camera is not that good but the performance wi...</td>\n",
       "      <td>4</td>\n",
       "      <td>[camera, is, not, that, good, but, the, perfor...</td>\n",
       "    </tr>\n",
       "    <tr>\n",
       "      <th>1</th>\n",
       "      <td>Best for high end graphic games. PUBG is avail...</td>\n",
       "      <td>4</td>\n",
       "      <td>[best, for, high, end, graphic, games, pubg, i...</td>\n",
       "    </tr>\n",
       "    <tr>\n",
       "      <th>2</th>\n",
       "      <td>Best quality products</td>\n",
       "      <td>5</td>\n",
       "      <td>[best, quality, products]</td>\n",
       "    </tr>\n",
       "    <tr>\n",
       "      <th>3</th>\n",
       "      <td>Value for money..... but heavy</td>\n",
       "      <td>5</td>\n",
       "      <td>[value, for, money, but, heavy]</td>\n",
       "    </tr>\n",
       "    <tr>\n",
       "      <th>4</th>\n",
       "      <td>Camera quality &amp; performance is good.. feature...</td>\n",
       "      <td>4</td>\n",
       "      <td>[camera, quality, performance, is, good, featu...</td>\n",
       "    </tr>\n",
       "    <tr>\n",
       "      <th>...</th>\n",
       "      <td>...</td>\n",
       "      <td>...</td>\n",
       "      <td>...</td>\n",
       "    </tr>\n",
       "    <tr>\n",
       "      <th>35709</th>\n",
       "      <td>Nice phone</td>\n",
       "      <td>3</td>\n",
       "      <td>[nice, phone]</td>\n",
       "    </tr>\n",
       "    <tr>\n",
       "      <th>35710</th>\n",
       "      <td>Superb quality ❤️👍</td>\n",
       "      <td>5</td>\n",
       "      <td>[superb, quality]</td>\n",
       "    </tr>\n",
       "    <tr>\n",
       "      <th>35711</th>\n",
       "      <td>Value for money 💰</td>\n",
       "      <td>5</td>\n",
       "      <td>[value, for, money]</td>\n",
       "    </tr>\n",
       "    <tr>\n",
       "      <th>35712</th>\n",
       "      <td>Worst battery pickup</td>\n",
       "      <td>1</td>\n",
       "      <td>[worst, battery, pickup]</td>\n",
       "    </tr>\n",
       "    <tr>\n",
       "      <th>35713</th>\n",
       "      <td>Very nice product</td>\n",
       "      <td>5</td>\n",
       "      <td>[very, nice, product]</td>\n",
       "    </tr>\n",
       "  </tbody>\n",
       "</table>\n",
       "<p>35714 rows × 3 columns</p>\n",
       "</div>"
      ],
      "text/plain": [
       "                                                 reviews  ...                                        cleanreview\n",
       "0      Camera is not that good but the performance wi...  ...  [camera, is, not, that, good, but, the, perfor...\n",
       "1      Best for high end graphic games. PUBG is avail...  ...  [best, for, high, end, graphic, games, pubg, i...\n",
       "2                                  Best quality products  ...                          [best, quality, products]\n",
       "3                         Value for money..... but heavy  ...                    [value, for, money, but, heavy]\n",
       "4      Camera quality & performance is good.. feature...  ...  [camera, quality, performance, is, good, featu...\n",
       "...                                                  ...  ...                                                ...\n",
       "35709                                         Nice phone  ...                                      [nice, phone]\n",
       "35710                                 Superb quality ❤️👍  ...                                  [superb, quality]\n",
       "35711                                  Value for money 💰  ...                                [value, for, money]\n",
       "35712                               Worst battery pickup  ...                           [worst, battery, pickup]\n",
       "35713                                  Very nice product  ...                              [very, nice, product]\n",
       "\n",
       "[35714 rows x 3 columns]"
      ]
     },
     "execution_count": 12,
     "metadata": {
      "tags": []
     },
     "output_type": "execute_result"
    }
   ],
   "source": [
    "rat"
   ]
  },
  {
   "cell_type": "markdown",
   "metadata": {
    "id": "aztjjTz5Gucg"
   },
   "source": [
    "We've split the review text into seperate words called as tokens."
   ]
  },
  {
   "cell_type": "markdown",
   "metadata": {
    "id": "wSGPC3QOG-58"
   },
   "source": [
    "### i) Removing Stopwords"
   ]
  },
  {
   "cell_type": "code",
   "execution_count": 13,
   "metadata": {
    "colab": {
     "base_uri": "https://localhost:8080/"
    },
    "id": "u-ERReh4ZG0j",
    "outputId": "220e3563-0050-4a8d-886a-0986b84349e4"
   },
   "outputs": [
    {
     "name": "stdout",
     "output_type": "stream",
     "text": [
      "[nltk_data] Downloading package stopwords to /root/nltk_data...\n",
      "[nltk_data]   Unzipping corpora/stopwords.zip.\n"
     ]
    },
    {
     "data": {
      "text/plain": [
       "True"
      ]
     },
     "execution_count": 13,
     "metadata": {
      "tags": []
     },
     "output_type": "execute_result"
    }
   ],
   "source": [
    "  >>> import nltk\n",
    "  >>> nltk.download('stopwords')"
   ]
  },
  {
   "cell_type": "code",
   "execution_count": 14,
   "metadata": {
    "id": "RwQ4nF7BGwI7"
   },
   "outputs": [],
   "source": [
    "from nltk.corpus import stopwords\n",
    "\n",
    "stop_words = set(stopwords.words('english'))\n",
    "\n",
    "def cleantext(token):\n",
    "    return [word for word in token if word not in stop_words]\n",
    "\n",
    "rat['cleanreview'] = rat['cleanreview'].apply(cleantext)"
   ]
  },
  {
   "cell_type": "code",
   "execution_count": 15,
   "metadata": {
    "colab": {
     "base_uri": "https://localhost:8080/",
     "height": 464
    },
    "id": "jWeQN2QnHAE6",
    "outputId": "e1408915-0dd8-46bf-91aa-1bdf023f7314"
   },
   "outputs": [
    {
     "data": {
      "text/html": [
       "<div>\n",
       "<style scoped>\n",
       "    .dataframe tbody tr th:only-of-type {\n",
       "        vertical-align: middle;\n",
       "    }\n",
       "\n",
       "    .dataframe tbody tr th {\n",
       "        vertical-align: top;\n",
       "    }\n",
       "\n",
       "    .dataframe thead th {\n",
       "        text-align: right;\n",
       "    }\n",
       "</style>\n",
       "<table border=\"1\" class=\"dataframe\">\n",
       "  <thead>\n",
       "    <tr style=\"text-align: right;\">\n",
       "      <th></th>\n",
       "      <th>reviews</th>\n",
       "      <th>ratings</th>\n",
       "      <th>cleanreview</th>\n",
       "    </tr>\n",
       "  </thead>\n",
       "  <tbody>\n",
       "    <tr>\n",
       "      <th>0</th>\n",
       "      <td>Camera is not that good but the performance wi...</td>\n",
       "      <td>4</td>\n",
       "      <td>[camera, good, performance, wise, display, goo...</td>\n",
       "    </tr>\n",
       "    <tr>\n",
       "      <th>1</th>\n",
       "      <td>Best for high end graphic games. PUBG is avail...</td>\n",
       "      <td>4</td>\n",
       "      <td>[best, high, end, graphic, games, pubg, availa...</td>\n",
       "    </tr>\n",
       "    <tr>\n",
       "      <th>2</th>\n",
       "      <td>Best quality products</td>\n",
       "      <td>5</td>\n",
       "      <td>[best, quality, products]</td>\n",
       "    </tr>\n",
       "    <tr>\n",
       "      <th>3</th>\n",
       "      <td>Value for money..... but heavy</td>\n",
       "      <td>5</td>\n",
       "      <td>[value, money, heavy]</td>\n",
       "    </tr>\n",
       "    <tr>\n",
       "      <th>4</th>\n",
       "      <td>Camera quality &amp; performance is good.. feature...</td>\n",
       "      <td>4</td>\n",
       "      <td>[camera, quality, performance, good, features,...</td>\n",
       "    </tr>\n",
       "    <tr>\n",
       "      <th>...</th>\n",
       "      <td>...</td>\n",
       "      <td>...</td>\n",
       "      <td>...</td>\n",
       "    </tr>\n",
       "    <tr>\n",
       "      <th>35709</th>\n",
       "      <td>Nice phone</td>\n",
       "      <td>3</td>\n",
       "      <td>[nice, phone]</td>\n",
       "    </tr>\n",
       "    <tr>\n",
       "      <th>35710</th>\n",
       "      <td>Superb quality ❤️👍</td>\n",
       "      <td>5</td>\n",
       "      <td>[superb, quality]</td>\n",
       "    </tr>\n",
       "    <tr>\n",
       "      <th>35711</th>\n",
       "      <td>Value for money 💰</td>\n",
       "      <td>5</td>\n",
       "      <td>[value, money]</td>\n",
       "    </tr>\n",
       "    <tr>\n",
       "      <th>35712</th>\n",
       "      <td>Worst battery pickup</td>\n",
       "      <td>1</td>\n",
       "      <td>[worst, battery, pickup]</td>\n",
       "    </tr>\n",
       "    <tr>\n",
       "      <th>35713</th>\n",
       "      <td>Very nice product</td>\n",
       "      <td>5</td>\n",
       "      <td>[nice, product]</td>\n",
       "    </tr>\n",
       "  </tbody>\n",
       "</table>\n",
       "<p>35714 rows × 3 columns</p>\n",
       "</div>"
      ],
      "text/plain": [
       "                                                 reviews  ...                                        cleanreview\n",
       "0      Camera is not that good but the performance wi...  ...  [camera, good, performance, wise, display, goo...\n",
       "1      Best for high end graphic games. PUBG is avail...  ...  [best, high, end, graphic, games, pubg, availa...\n",
       "2                                  Best quality products  ...                          [best, quality, products]\n",
       "3                         Value for money..... but heavy  ...                              [value, money, heavy]\n",
       "4      Camera quality & performance is good.. feature...  ...  [camera, quality, performance, good, features,...\n",
       "...                                                  ...  ...                                                ...\n",
       "35709                                         Nice phone  ...                                      [nice, phone]\n",
       "35710                                 Superb quality ❤️👍  ...                                  [superb, quality]\n",
       "35711                                  Value for money 💰  ...                                     [value, money]\n",
       "35712                               Worst battery pickup  ...                           [worst, battery, pickup]\n",
       "35713                                  Very nice product  ...                                    [nice, product]\n",
       "\n",
       "[35714 rows x 3 columns]"
      ]
     },
     "execution_count": 15,
     "metadata": {
      "tags": []
     },
     "output_type": "execute_result"
    }
   ],
   "source": [
    "rat"
   ]
  },
  {
   "cell_type": "markdown",
   "metadata": {
    "id": "JFDs5ZWWHOow"
   },
   "source": [
    "stop_words :\n",
    "\n",
    "{'a', 'about', 'above', 'after', 'again', 'against', 'ain', 'all', 'am', 'an', 'and', 'any', 'are', 'aren', \"aren't\", 'as', 'at', 'be', 'because', 'been', 'before', 'being', 'below', 'between', 'both', 'but', 'by', 'can', 'couldn', \"couldn't\", 'd', 'did', 'didn', \"didn't\", 'do', 'does', 'doesn', \"doesn't\", 'doing', 'don', \"don't\", 'down', 'during', 'each', 'few', 'for', 'from', 'further', 'had', 'hadn', \"hadn't\", 'has', 'hasn', \"hasn't\", 'have', 'haven', \"haven't\", 'having', 'he', 'her', 'here', 'hers', 'herself', 'him', 'himself', 'his', 'how', 'i', 'if', 'in', 'into', 'is', 'isn', \"isn't\", 'it', \"it's\", 'its', 'itself', 'just', 'll', 'm', 'ma', 'me', 'mightn', \"mightn't\", 'more', 'most', 'mustn', \"mustn't\", 'my', 'myself', 'needn', \"needn't\", 'no', 'nor', 'not', 'now', 'o', 'of', 'off', 'on', 'once', 'only', 'or', 'other', 'our', 'ours', 'ourselves', 'out', 'over', 'own', 're', 's', 'same', 'shan', \"shan't\", 'she', \"she's\", 'should', \"should've\", 'shouldn', \"shouldn't\", 'so', 'some', 'such', 't', 'than', 'that', \"that'll\", 'the', 'their', 'theirs', 'them', 'themselves', 'then', 'there', 'these', 'they', 'this', 'those', 'through', 'to', 'too', 'under', 'until', 'up', 've', 'very', 'was', 'wasn', \"wasn't\", 'we', 'were', 'weren', \"weren't\", 'what', 'when', 'where', 'which', 'while', 'who', 'whom', 'why', 'will', 'with', 'won', \"won't\", 'wouldn', \"wouldn't\", 'y', 'you', \"you'd\", \"you'll\", \"you're\", \"you've\", 'your', 'yours', 'yourself', 'yourselves'}​\n",
    "\n",
    "All the above words are removed from our dataset, cause they don't add up any extra meaning to the already retained one."
   ]
  },
  {
   "cell_type": "markdown",
   "metadata": {
    "id": "_OltSD_oHTiN"
   },
   "source": [
    "### ii) Stemming and Lemmatization"
   ]
  },
  {
   "cell_type": "markdown",
   "metadata": {
    "id": "lOll8NIpHZX7"
   },
   "source": [
    "To put things straight and simple:\n",
    "\n",
    "Stemming: It is a direct and raw process which does not go by the dictionary while it perfroms its action on the tokens. The processed tokens do not really mean anything in the end but it makes sure to rip the long words into short.\n",
    "\n",
    "Lemmatization: It is a time taking process but it is well composed and goes by the dictionary. Post-processed tokens do mean something in the end."
   ]
  },
  {
   "cell_type": "markdown",
   "metadata": {
    "id": "0BE_KqZyHaWX"
   },
   "source": [
    "We'd use Lemmatization as it yield a sensible and reilable result in the end comparatively."
   ]
  },
  {
   "cell_type": "code",
   "execution_count": 16,
   "metadata": {
    "colab": {
     "base_uri": "https://localhost:8080/"
    },
    "id": "pYp3aop9ZPAH",
    "outputId": "43d121d2-caa9-43de-c61f-95cf3995a32a"
   },
   "outputs": [
    {
     "name": "stdout",
     "output_type": "stream",
     "text": [
      "[nltk_data] Downloading package wordnet to /root/nltk_data...\n",
      "[nltk_data]   Unzipping corpora/wordnet.zip.\n"
     ]
    },
    {
     "data": {
      "text/plain": [
       "True"
      ]
     },
     "execution_count": 16,
     "metadata": {
      "tags": []
     },
     "output_type": "execute_result"
    }
   ],
   "source": [
    "  >>> import nltk\n",
    "  >>> nltk.download('wordnet')"
   ]
  },
  {
   "cell_type": "code",
   "execution_count": 17,
   "metadata": {
    "id": "hUB73vl9HcJH"
   },
   "outputs": [],
   "source": [
    "from nltk.stem import WordNetLemmatizer\n",
    "\n",
    "lemma = WordNetLemmatizer()\n",
    "\n",
    "def cleantext(token):\n",
    "    return [lemma.lemmatize(word = w, pos = 'v') for w in token] #POS = Parts of speach, 'v' = verb.\n",
    "\n",
    "rat['cleanreview'] = rat['cleanreview'].apply(cleantext)"
   ]
  },
  {
   "cell_type": "code",
   "execution_count": 18,
   "metadata": {
    "colab": {
     "base_uri": "https://localhost:8080/",
     "height": 464
    },
    "id": "GmenqxfkHjoo",
    "outputId": "06c9b66e-e674-4618-a37b-e4606b588a8a"
   },
   "outputs": [
    {
     "data": {
      "text/html": [
       "<div>\n",
       "<style scoped>\n",
       "    .dataframe tbody tr th:only-of-type {\n",
       "        vertical-align: middle;\n",
       "    }\n",
       "\n",
       "    .dataframe tbody tr th {\n",
       "        vertical-align: top;\n",
       "    }\n",
       "\n",
       "    .dataframe thead th {\n",
       "        text-align: right;\n",
       "    }\n",
       "</style>\n",
       "<table border=\"1\" class=\"dataframe\">\n",
       "  <thead>\n",
       "    <tr style=\"text-align: right;\">\n",
       "      <th></th>\n",
       "      <th>reviews</th>\n",
       "      <th>ratings</th>\n",
       "      <th>cleanreview</th>\n",
       "    </tr>\n",
       "  </thead>\n",
       "  <tbody>\n",
       "    <tr>\n",
       "      <th>0</th>\n",
       "      <td>Camera is not that good but the performance wi...</td>\n",
       "      <td>4</td>\n",
       "      <td>[camera, good, performance, wise, display, goo...</td>\n",
       "    </tr>\n",
       "    <tr>\n",
       "      <th>1</th>\n",
       "      <td>Best for high end graphic games. PUBG is avail...</td>\n",
       "      <td>4</td>\n",
       "      <td>[best, high, end, graphic, game, pubg, availab...</td>\n",
       "    </tr>\n",
       "    <tr>\n",
       "      <th>2</th>\n",
       "      <td>Best quality products</td>\n",
       "      <td>5</td>\n",
       "      <td>[best, quality, products]</td>\n",
       "    </tr>\n",
       "    <tr>\n",
       "      <th>3</th>\n",
       "      <td>Value for money..... but heavy</td>\n",
       "      <td>5</td>\n",
       "      <td>[value, money, heavy]</td>\n",
       "    </tr>\n",
       "    <tr>\n",
       "      <th>4</th>\n",
       "      <td>Camera quality &amp; performance is good.. feature...</td>\n",
       "      <td>4</td>\n",
       "      <td>[camera, quality, performance, good, feature, ...</td>\n",
       "    </tr>\n",
       "    <tr>\n",
       "      <th>...</th>\n",
       "      <td>...</td>\n",
       "      <td>...</td>\n",
       "      <td>...</td>\n",
       "    </tr>\n",
       "    <tr>\n",
       "      <th>35709</th>\n",
       "      <td>Nice phone</td>\n",
       "      <td>3</td>\n",
       "      <td>[nice, phone]</td>\n",
       "    </tr>\n",
       "    <tr>\n",
       "      <th>35710</th>\n",
       "      <td>Superb quality ❤️👍</td>\n",
       "      <td>5</td>\n",
       "      <td>[superb, quality]</td>\n",
       "    </tr>\n",
       "    <tr>\n",
       "      <th>35711</th>\n",
       "      <td>Value for money 💰</td>\n",
       "      <td>5</td>\n",
       "      <td>[value, money]</td>\n",
       "    </tr>\n",
       "    <tr>\n",
       "      <th>35712</th>\n",
       "      <td>Worst battery pickup</td>\n",
       "      <td>1</td>\n",
       "      <td>[worst, battery, pickup]</td>\n",
       "    </tr>\n",
       "    <tr>\n",
       "      <th>35713</th>\n",
       "      <td>Very nice product</td>\n",
       "      <td>5</td>\n",
       "      <td>[nice, product]</td>\n",
       "    </tr>\n",
       "  </tbody>\n",
       "</table>\n",
       "<p>35714 rows × 3 columns</p>\n",
       "</div>"
      ],
      "text/plain": [
       "                                                 reviews  ...                                        cleanreview\n",
       "0      Camera is not that good but the performance wi...  ...  [camera, good, performance, wise, display, goo...\n",
       "1      Best for high end graphic games. PUBG is avail...  ...  [best, high, end, graphic, game, pubg, availab...\n",
       "2                                  Best quality products  ...                          [best, quality, products]\n",
       "3                         Value for money..... but heavy  ...                              [value, money, heavy]\n",
       "4      Camera quality & performance is good.. feature...  ...  [camera, quality, performance, good, feature, ...\n",
       "...                                                  ...  ...                                                ...\n",
       "35709                                         Nice phone  ...                                      [nice, phone]\n",
       "35710                                 Superb quality ❤️👍  ...                                  [superb, quality]\n",
       "35711                                  Value for money 💰  ...                                     [value, money]\n",
       "35712                               Worst battery pickup  ...                           [worst, battery, pickup]\n",
       "35713                                  Very nice product  ...                                    [nice, product]\n",
       "\n",
       "[35714 rows x 3 columns]"
      ]
     },
     "execution_count": 18,
     "metadata": {
      "tags": []
     },
     "output_type": "execute_result"
    }
   ],
   "source": [
    "rat"
   ]
  },
  {
   "cell_type": "markdown",
   "metadata": {
    "id": "QrRO6T66Hzk1"
   },
   "source": [
    "The column 'cleanreview' clearly got rid of the words which are nothing but a burden. Now it only has which makes sense."
   ]
  },
  {
   "cell_type": "markdown",
   "metadata": {
    "id": "Qnq1HAY0H2E-"
   },
   "source": [
    "### iii) Remove the words having length <= 2"
   ]
  },
  {
   "cell_type": "markdown",
   "metadata": {
    "id": "XwkbR27UH7KL"
   },
   "source": [
    "There is a chance of having a single letter like 'a', 'I'.. which donot add up much in the end."
   ]
  },
  {
   "cell_type": "code",
   "execution_count": 19,
   "metadata": {
    "id": "K5wY2n3qH748"
   },
   "outputs": [],
   "source": [
    "def clean_length(token):\n",
    "    return [word for word in token if len(word)>2]\n",
    "\n",
    "rat['cleanreview'] = rat['cleanreview'].apply(clean_length)"
   ]
  },
  {
   "cell_type": "code",
   "execution_count": 20,
   "metadata": {
    "colab": {
     "base_uri": "https://localhost:8080/",
     "height": 464
    },
    "id": "iEMqY2ibIA97",
    "outputId": "f63903bd-b011-4c92-a1c0-754b21556004"
   },
   "outputs": [
    {
     "data": {
      "text/html": [
       "<div>\n",
       "<style scoped>\n",
       "    .dataframe tbody tr th:only-of-type {\n",
       "        vertical-align: middle;\n",
       "    }\n",
       "\n",
       "    .dataframe tbody tr th {\n",
       "        vertical-align: top;\n",
       "    }\n",
       "\n",
       "    .dataframe thead th {\n",
       "        text-align: right;\n",
       "    }\n",
       "</style>\n",
       "<table border=\"1\" class=\"dataframe\">\n",
       "  <thead>\n",
       "    <tr style=\"text-align: right;\">\n",
       "      <th></th>\n",
       "      <th>reviews</th>\n",
       "      <th>ratings</th>\n",
       "      <th>cleanreview</th>\n",
       "    </tr>\n",
       "  </thead>\n",
       "  <tbody>\n",
       "    <tr>\n",
       "      <th>0</th>\n",
       "      <td>Camera is not that good but the performance wi...</td>\n",
       "      <td>4</td>\n",
       "      <td>[camera, good, performance, wise, display, goo...</td>\n",
       "    </tr>\n",
       "    <tr>\n",
       "      <th>1</th>\n",
       "      <td>Best for high end graphic games. PUBG is avail...</td>\n",
       "      <td>4</td>\n",
       "      <td>[best, high, end, graphic, game, pubg, availab...</td>\n",
       "    </tr>\n",
       "    <tr>\n",
       "      <th>2</th>\n",
       "      <td>Best quality products</td>\n",
       "      <td>5</td>\n",
       "      <td>[best, quality, products]</td>\n",
       "    </tr>\n",
       "    <tr>\n",
       "      <th>3</th>\n",
       "      <td>Value for money..... but heavy</td>\n",
       "      <td>5</td>\n",
       "      <td>[value, money, heavy]</td>\n",
       "    </tr>\n",
       "    <tr>\n",
       "      <th>4</th>\n",
       "      <td>Camera quality &amp; performance is good.. feature...</td>\n",
       "      <td>4</td>\n",
       "      <td>[camera, quality, performance, good, feature, ...</td>\n",
       "    </tr>\n",
       "    <tr>\n",
       "      <th>...</th>\n",
       "      <td>...</td>\n",
       "      <td>...</td>\n",
       "      <td>...</td>\n",
       "    </tr>\n",
       "    <tr>\n",
       "      <th>35709</th>\n",
       "      <td>Nice phone</td>\n",
       "      <td>3</td>\n",
       "      <td>[nice, phone]</td>\n",
       "    </tr>\n",
       "    <tr>\n",
       "      <th>35710</th>\n",
       "      <td>Superb quality ❤️👍</td>\n",
       "      <td>5</td>\n",
       "      <td>[superb, quality]</td>\n",
       "    </tr>\n",
       "    <tr>\n",
       "      <th>35711</th>\n",
       "      <td>Value for money 💰</td>\n",
       "      <td>5</td>\n",
       "      <td>[value, money]</td>\n",
       "    </tr>\n",
       "    <tr>\n",
       "      <th>35712</th>\n",
       "      <td>Worst battery pickup</td>\n",
       "      <td>1</td>\n",
       "      <td>[worst, battery, pickup]</td>\n",
       "    </tr>\n",
       "    <tr>\n",
       "      <th>35713</th>\n",
       "      <td>Very nice product</td>\n",
       "      <td>5</td>\n",
       "      <td>[nice, product]</td>\n",
       "    </tr>\n",
       "  </tbody>\n",
       "</table>\n",
       "<p>35714 rows × 3 columns</p>\n",
       "</div>"
      ],
      "text/plain": [
       "                                                 reviews  ...                                        cleanreview\n",
       "0      Camera is not that good but the performance wi...  ...  [camera, good, performance, wise, display, goo...\n",
       "1      Best for high end graphic games. PUBG is avail...  ...  [best, high, end, graphic, game, pubg, availab...\n",
       "2                                  Best quality products  ...                          [best, quality, products]\n",
       "3                         Value for money..... but heavy  ...                              [value, money, heavy]\n",
       "4      Camera quality & performance is good.. feature...  ...  [camera, quality, performance, good, feature, ...\n",
       "...                                                  ...  ...                                                ...\n",
       "35709                                         Nice phone  ...                                      [nice, phone]\n",
       "35710                                 Superb quality ❤️👍  ...                                  [superb, quality]\n",
       "35711                                  Value for money 💰  ...                                     [value, money]\n",
       "35712                               Worst battery pickup  ...                           [worst, battery, pickup]\n",
       "35713                                  Very nice product  ...                                    [nice, product]\n",
       "\n",
       "[35714 rows x 3 columns]"
      ]
     },
     "execution_count": 20,
     "metadata": {
      "tags": []
     },
     "output_type": "execute_result"
    }
   ],
   "source": [
    "rat"
   ]
  },
  {
   "cell_type": "markdown",
   "metadata": {
    "id": "GiLBmdKwIGlM"
   },
   "source": [
    "### 5) Snitching the tokens back to the string."
   ]
  },
  {
   "cell_type": "code",
   "execution_count": 21,
   "metadata": {
    "id": "Y9T8aTZbICBS"
   },
   "outputs": [],
   "source": [
    "def convert(review):\n",
    "    return ' '.join(review)\n",
    "\n",
    "rat['cleanreview'] = rat['cleanreview'].apply(convert)"
   ]
  },
  {
   "cell_type": "code",
   "execution_count": 22,
   "metadata": {
    "colab": {
     "base_uri": "https://localhost:8080/",
     "height": 414
    },
    "id": "TloltS3wIHxu",
    "outputId": "0234f1cd-39f7-4f2f-be08-42eb34b2a79b"
   },
   "outputs": [
    {
     "data": {
      "text/html": [
       "<div>\n",
       "<style scoped>\n",
       "    .dataframe tbody tr th:only-of-type {\n",
       "        vertical-align: middle;\n",
       "    }\n",
       "\n",
       "    .dataframe tbody tr th {\n",
       "        vertical-align: top;\n",
       "    }\n",
       "\n",
       "    .dataframe thead th {\n",
       "        text-align: right;\n",
       "    }\n",
       "</style>\n",
       "<table border=\"1\" class=\"dataframe\">\n",
       "  <thead>\n",
       "    <tr style=\"text-align: right;\">\n",
       "      <th></th>\n",
       "      <th>reviews</th>\n",
       "      <th>ratings</th>\n",
       "      <th>cleanreview</th>\n",
       "    </tr>\n",
       "  </thead>\n",
       "  <tbody>\n",
       "    <tr>\n",
       "      <th>0</th>\n",
       "      <td>Camera is not that good but the performance wi...</td>\n",
       "      <td>4</td>\n",
       "      <td>camera good performance wise display good over...</td>\n",
       "    </tr>\n",
       "    <tr>\n",
       "      <th>1</th>\n",
       "      <td>Best for high end graphic games. PUBG is avail...</td>\n",
       "      <td>4</td>\n",
       "      <td>best high end graphic game pubg available till...</td>\n",
       "    </tr>\n",
       "    <tr>\n",
       "      <th>2</th>\n",
       "      <td>Best quality products</td>\n",
       "      <td>5</td>\n",
       "      <td>best quality products</td>\n",
       "    </tr>\n",
       "    <tr>\n",
       "      <th>3</th>\n",
       "      <td>Value for money..... but heavy</td>\n",
       "      <td>5</td>\n",
       "      <td>value money heavy</td>\n",
       "    </tr>\n",
       "    <tr>\n",
       "      <th>4</th>\n",
       "      <td>Camera quality &amp; performance is good.. feature...</td>\n",
       "      <td>4</td>\n",
       "      <td>camera quality performance good feature nice s...</td>\n",
       "    </tr>\n",
       "    <tr>\n",
       "      <th>...</th>\n",
       "      <td>...</td>\n",
       "      <td>...</td>\n",
       "      <td>...</td>\n",
       "    </tr>\n",
       "    <tr>\n",
       "      <th>35709</th>\n",
       "      <td>Nice phone</td>\n",
       "      <td>3</td>\n",
       "      <td>nice phone</td>\n",
       "    </tr>\n",
       "    <tr>\n",
       "      <th>35710</th>\n",
       "      <td>Superb quality ❤️👍</td>\n",
       "      <td>5</td>\n",
       "      <td>superb quality</td>\n",
       "    </tr>\n",
       "    <tr>\n",
       "      <th>35711</th>\n",
       "      <td>Value for money 💰</td>\n",
       "      <td>5</td>\n",
       "      <td>value money</td>\n",
       "    </tr>\n",
       "    <tr>\n",
       "      <th>35712</th>\n",
       "      <td>Worst battery pickup</td>\n",
       "      <td>1</td>\n",
       "      <td>worst battery pickup</td>\n",
       "    </tr>\n",
       "    <tr>\n",
       "      <th>35713</th>\n",
       "      <td>Very nice product</td>\n",
       "      <td>5</td>\n",
       "      <td>nice product</td>\n",
       "    </tr>\n",
       "  </tbody>\n",
       "</table>\n",
       "<p>35714 rows × 3 columns</p>\n",
       "</div>"
      ],
      "text/plain": [
       "                                                 reviews  ...                                        cleanreview\n",
       "0      Camera is not that good but the performance wi...  ...  camera good performance wise display good over...\n",
       "1      Best for high end graphic games. PUBG is avail...  ...  best high end graphic game pubg available till...\n",
       "2                                  Best quality products  ...                              best quality products\n",
       "3                         Value for money..... but heavy  ...                                  value money heavy\n",
       "4      Camera quality & performance is good.. feature...  ...  camera quality performance good feature nice s...\n",
       "...                                                  ...  ...                                                ...\n",
       "35709                                         Nice phone  ...                                         nice phone\n",
       "35710                                 Superb quality ❤️👍  ...                                     superb quality\n",
       "35711                                  Value for money 💰  ...                                        value money\n",
       "35712                               Worst battery pickup  ...                               worst battery pickup\n",
       "35713                                  Very nice product  ...                                       nice product\n",
       "\n",
       "[35714 rows x 3 columns]"
      ]
     },
     "execution_count": 22,
     "metadata": {
      "tags": []
     },
     "output_type": "execute_result"
    }
   ],
   "source": [
    "rat"
   ]
  },
  {
   "cell_type": "markdown",
   "metadata": {
    "id": "0k9Cjis-IPYn"
   },
   "source": [
    "Now the data is properly has undergone the preprocessing procedure, it is now ready for building a model."
   ]
  },
  {
   "cell_type": "code",
   "execution_count": 23,
   "metadata": {
    "id": "shqyhSKSIQCm"
   },
   "outputs": [],
   "source": [
    "rat.drop(['reviews'], axis = 1, inplace = True)"
   ]
  },
  {
   "cell_type": "markdown",
   "metadata": {
    "id": "nVO4825RISqC"
   },
   "source": [
    "We've removed the raw 'review' column to model the rest of the data."
   ]
  },
  {
   "cell_type": "code",
   "execution_count": 24,
   "metadata": {
    "colab": {
     "base_uri": "https://localhost:8080/",
     "height": 414
    },
    "id": "yl8fhyaDIRmh",
    "outputId": "329889d0-60be-49d8-b567-625c0d9692da"
   },
   "outputs": [
    {
     "data": {
      "text/html": [
       "<div>\n",
       "<style scoped>\n",
       "    .dataframe tbody tr th:only-of-type {\n",
       "        vertical-align: middle;\n",
       "    }\n",
       "\n",
       "    .dataframe tbody tr th {\n",
       "        vertical-align: top;\n",
       "    }\n",
       "\n",
       "    .dataframe thead th {\n",
       "        text-align: right;\n",
       "    }\n",
       "</style>\n",
       "<table border=\"1\" class=\"dataframe\">\n",
       "  <thead>\n",
       "    <tr style=\"text-align: right;\">\n",
       "      <th></th>\n",
       "      <th>ratings</th>\n",
       "      <th>cleanreview</th>\n",
       "    </tr>\n",
       "  </thead>\n",
       "  <tbody>\n",
       "    <tr>\n",
       "      <th>0</th>\n",
       "      <td>4</td>\n",
       "      <td>camera good performance wise display good over...</td>\n",
       "    </tr>\n",
       "    <tr>\n",
       "      <th>1</th>\n",
       "      <td>4</td>\n",
       "      <td>best high end graphic game pubg available till...</td>\n",
       "    </tr>\n",
       "    <tr>\n",
       "      <th>2</th>\n",
       "      <td>5</td>\n",
       "      <td>best quality products</td>\n",
       "    </tr>\n",
       "    <tr>\n",
       "      <th>3</th>\n",
       "      <td>5</td>\n",
       "      <td>value money heavy</td>\n",
       "    </tr>\n",
       "    <tr>\n",
       "      <th>4</th>\n",
       "      <td>4</td>\n",
       "      <td>camera quality performance good feature nice s...</td>\n",
       "    </tr>\n",
       "    <tr>\n",
       "      <th>...</th>\n",
       "      <td>...</td>\n",
       "      <td>...</td>\n",
       "    </tr>\n",
       "    <tr>\n",
       "      <th>35709</th>\n",
       "      <td>3</td>\n",
       "      <td>nice phone</td>\n",
       "    </tr>\n",
       "    <tr>\n",
       "      <th>35710</th>\n",
       "      <td>5</td>\n",
       "      <td>superb quality</td>\n",
       "    </tr>\n",
       "    <tr>\n",
       "      <th>35711</th>\n",
       "      <td>5</td>\n",
       "      <td>value money</td>\n",
       "    </tr>\n",
       "    <tr>\n",
       "      <th>35712</th>\n",
       "      <td>1</td>\n",
       "      <td>worst battery pickup</td>\n",
       "    </tr>\n",
       "    <tr>\n",
       "      <th>35713</th>\n",
       "      <td>5</td>\n",
       "      <td>nice product</td>\n",
       "    </tr>\n",
       "  </tbody>\n",
       "</table>\n",
       "<p>35714 rows × 2 columns</p>\n",
       "</div>"
      ],
      "text/plain": [
       "       ratings                                        cleanreview\n",
       "0            4  camera good performance wise display good over...\n",
       "1            4  best high end graphic game pubg available till...\n",
       "2            5                              best quality products\n",
       "3            5                                  value money heavy\n",
       "4            4  camera quality performance good feature nice s...\n",
       "...        ...                                                ...\n",
       "35709        3                                         nice phone\n",
       "35710        5                                     superb quality\n",
       "35711        5                                        value money\n",
       "35712        1                               worst battery pickup\n",
       "35713        5                                       nice product\n",
       "\n",
       "[35714 rows x 2 columns]"
      ]
     },
     "execution_count": 24,
     "metadata": {
      "tags": []
     },
     "output_type": "execute_result"
    }
   ],
   "source": [
    "rat"
   ]
  },
  {
   "cell_type": "code",
   "execution_count": 25,
   "metadata": {
    "id": "XxFkNMJnIeX7"
   },
   "outputs": [],
   "source": [
    "import seaborn as sns\n",
    "import matplotlib.pyplot as plt\n"
   ]
  },
  {
   "cell_type": "code",
   "execution_count": 26,
   "metadata": {
    "colab": {
     "base_uri": "https://localhost:8080/",
     "height": 352
    },
    "id": "pVdW_6mKITSA",
    "outputId": "b2f53849-ccc2-42fb-f933-37101b3f4da2"
   },
   "outputs": [
    {
     "name": "stderr",
     "output_type": "stream",
     "text": [
      "/usr/local/lib/python3.7/dist-packages/seaborn/_decorators.py:43: FutureWarning: Pass the following variable as a keyword arg: x. From version 0.12, the only valid positional argument will be `data`, and passing other arguments without an explicit keyword will result in an error or misinterpretation.\n",
      "  FutureWarning\n"
     ]
    },
    {
     "data": {
      "text/plain": [
       "Text(0.5, 0, 'ratings')"
      ]
     },
     "execution_count": 26,
     "metadata": {
      "tags": []
     },
     "output_type": "execute_result"
    },
    {
     "data": {
      "image/png": "[encoded data removed]",
      "text/plain": [
       "<Figure size 432x288 with 1 Axes>"
      ]
     },
     "metadata": {
      "needs_background": "light",
      "tags": []
     },
     "output_type": "display_data"
    }
   ],
   "source": [
    "sns.countplot(rat.ratings)\n",
    "plt.xlabel('ratings')"
   ]
  },
  {
   "cell_type": "markdown",
   "metadata": {
    "id": "t98zeL4fPJhG"
   },
   "source": [
    "The plot shows that the distribution is imblalanced thus, we shall assign negative, neutral and positive sentiments to <3, =3, >3 respectively."
   ]
  },
  {
   "cell_type": "code",
   "execution_count": 27,
   "metadata": {
    "id": "rtgbly_eIcUo"
   },
   "outputs": [],
   "source": [
    "# replacing numerical values with categorical values to reduce the classes to sentiments\n",
    "\n",
    "rat['sentiment'] = rat.ratings.replace({\n",
    "    1:'negative',\n",
    "    2:'negative',\n",
    "    3:'neutral',\n",
    "    4:'positive',\n",
    "    5:'positive'\n",
    "})"
   ]
  },
  {
   "cell_type": "markdown",
   "metadata": {
    "id": "-pcv9dIhP3S-"
   },
   "source": [
    "### Data Split"
   ]
  },
  {
   "cell_type": "code",
   "execution_count": 28,
   "metadata": {
    "id": "1IFIqd6ROi55"
   },
   "outputs": [],
   "source": [
    "##Creating Train and Test datasets\n",
    "\n",
    "X_data = rat['cleanreview']\n",
    "y_data = rat['sentiment']"
   ]
  },
  {
   "cell_type": "code",
   "execution_count": 29,
   "metadata": {
    "id": "MWgqHQ4yO_PT"
   },
   "outputs": [],
   "source": [
    "# changing the datatype from object to string\n",
    "\n",
    "X_data = X_data.astype(str)"
   ]
  },
  {
   "cell_type": "code",
   "execution_count": 30,
   "metadata": {
    "colab": {
     "base_uri": "https://localhost:8080/"
    },
    "id": "Hcqde-FHPOZQ",
    "outputId": "bce49c51-436d-481e-da0c-7f2fcc26ecd3"
   },
   "outputs": [
    {
     "data": {
      "text/plain": [
       "0        camera good performance wise display good over...\n",
       "1        best high end graphic game pubg available till...\n",
       "2                                    best quality products\n",
       "3                                        value money heavy\n",
       "4        camera quality performance good feature nice s...\n",
       "                               ...                        \n",
       "35709                                           nice phone\n",
       "35710                                       superb quality\n",
       "35711                                          value money\n",
       "35712                                 worst battery pickup\n",
       "35713                                         nice product\n",
       "Name: cleanreview, Length: 35714, dtype: object"
      ]
     },
     "execution_count": 30,
     "metadata": {
      "tags": []
     },
     "output_type": "execute_result"
    }
   ],
   "source": [
    "X_data"
   ]
  },
  {
   "cell_type": "code",
   "execution_count": 31,
   "metadata": {
    "colab": {
     "base_uri": "https://localhost:8080/",
     "height": 202
    },
    "id": "_nOsOijDPXLE",
    "outputId": "12c6639f-8747-43fb-9a00-e05fa5f98c67"
   },
   "outputs": [
    {
     "data": {
      "text/html": [
       "<div>\n",
       "<style scoped>\n",
       "    .dataframe tbody tr th:only-of-type {\n",
       "        vertical-align: middle;\n",
       "    }\n",
       "\n",
       "    .dataframe tbody tr th {\n",
       "        vertical-align: top;\n",
       "    }\n",
       "\n",
       "    .dataframe thead th {\n",
       "        text-align: right;\n",
       "    }\n",
       "</style>\n",
       "<table border=\"1\" class=\"dataframe\">\n",
       "  <thead>\n",
       "    <tr style=\"text-align: right;\">\n",
       "      <th></th>\n",
       "      <th>review</th>\n",
       "    </tr>\n",
       "  </thead>\n",
       "  <tbody>\n",
       "    <tr>\n",
       "      <th>0</th>\n",
       "      <td>camera good performance wise display good over...</td>\n",
       "    </tr>\n",
       "    <tr>\n",
       "      <th>1</th>\n",
       "      <td>best high end graphic game pubg available till...</td>\n",
       "    </tr>\n",
       "    <tr>\n",
       "      <th>2</th>\n",
       "      <td>best quality products</td>\n",
       "    </tr>\n",
       "    <tr>\n",
       "      <th>3</th>\n",
       "      <td>value money heavy</td>\n",
       "    </tr>\n",
       "    <tr>\n",
       "      <th>4</th>\n",
       "      <td>camera quality performance good feature nice s...</td>\n",
       "    </tr>\n",
       "  </tbody>\n",
       "</table>\n",
       "</div>"
      ],
      "text/plain": [
       "                                              review\n",
       "0  camera good performance wise display good over...\n",
       "1  best high end graphic game pubg available till...\n",
       "2                              best quality products\n",
       "3                                  value money heavy\n",
       "4  camera quality performance good feature nice s..."
      ]
     },
     "execution_count": 31,
     "metadata": {
      "tags": []
     },
     "output_type": "execute_result"
    }
   ],
   "source": [
    "# creating new dataframe\n",
    "\n",
    "X_data_df = pd.DataFrame(data=X_data)\n",
    "X_data_df.columns = ['review']\n",
    "X_data_df.head()"
   ]
  },
  {
   "cell_type": "markdown",
   "metadata": {
    "id": "K5ErMq7lO_TZ"
   },
   "source": [
    "Since the reviews are converted to string datatype, we'll then convert it into numerical so that the machine can model the data.\n",
    "\n",
    "We use CountVector and TfidfTransoformer to breakdown the texts and then coverting those numerical form."
   ]
  },
  {
   "cell_type": "code",
   "execution_count": 32,
   "metadata": {
    "id": "WtSUPGAKPa0Y"
   },
   "outputs": [],
   "source": [
    "from sklearn.feature_extraction.text import CountVectorizer\n",
    "from sklearn.feature_extraction.text import TfidfTransformer\n",
    "\n",
    "cv=CountVectorizer()\n",
    "\n",
    "x_train_trans1=cv.fit_transform(X_data).toarray()\n",
    "\n",
    "tfidf = TfidfTransformer()\n",
    "\n",
    "x_final_trans = tfidf.fit_transform(x_train_trans1).toarray()"
   ]
  },
  {
   "cell_type": "code",
   "execution_count": 33,
   "metadata": {
    "id": "HmmljGAfQT9n"
   },
   "outputs": [],
   "source": [
    "from sklearn.model_selection import train_test_split\n",
    "seed = 4353\n",
    "\n",
    "X_train,X_test,y_train,y_test=train_test_split(x_final_trans,y_data,random_state = seed,test_size=0.2)"
   ]
  },
  {
   "cell_type": "markdown",
   "metadata": {
    "id": "mWzgT3PYXvk9"
   },
   "source": [
    "## Model Selection"
   ]
  },
  {
   "cell_type": "markdown",
   "metadata": {
    "id": "F6aq5ateX0LI"
   },
   "source": [
    "### Multinomial Naive Bayes"
   ]
  },
  {
   "cell_type": "code",
   "execution_count": 35,
   "metadata": {
    "id": "Uqtg3hOIYGqA"
   },
   "outputs": [],
   "source": [
    "from sklearn.model_selection import cross_val_score, GridSearchCV\n",
    "from sklearn.metrics import confusion_matrix, classification_report, accuracy_score, f1_score\n",
    "from sklearn.naive_bayes import MultinomialNB\n",
    "from sklearn.pipeline import Pipeline\n",
    "import xgboost as xgb\n",
    "seed = 4353"
   ]
  },
  {
   "cell_type": "code",
   "execution_count": 36,
   "metadata": {
    "id": "RxrP3Gq7X3Ir"
   },
   "outputs": [],
   "source": [
    "# Instatiation, fitting and prediction\n",
    "\n",
    "MNB = MultinomialNB()\n",
    "MNB.fit(X_train, y_train)\n",
    "predictions = MNB.predict(X_test)"
   ]
  },
  {
   "cell_type": "code",
   "execution_count": 37,
   "metadata": {
    "colab": {
     "base_uri": "https://localhost:8080/"
    },
    "id": "oMmA-jG8ZXDo",
    "outputId": "dd9d90e4-6c7a-46ec-a8de-71fb6bdac4d5"
   },
   "outputs": [
    {
     "name": "stdout",
     "output_type": "stream",
     "text": [
      "              precision    recall  f1-score   support\n",
      "\n",
      "    negative       0.91      0.74      0.82       790\n",
      "     neutral       0.92      0.36      0.51      1085\n",
      "    positive       0.86      0.99      0.92      5268\n",
      "\n",
      "    accuracy                           0.87      7143\n",
      "   macro avg       0.90      0.70      0.75      7143\n",
      "weighted avg       0.87      0.87      0.85      7143\n",
      "\n",
      "[[ 586    4  200]\n",
      " [  40  386  659]\n",
      " [  16   28 5224]]\n",
      "Accuracy :  86.74  %\n",
      "f1_score :  0.847\n"
     ]
    }
   ],
   "source": [
    "# Model evaluation\n",
    "\n",
    "print(classification_report(y_test, predictions))\n",
    "print(confusion_matrix(y_test, predictions))\n",
    "\n",
    "MNB_f1 = round(f1_score(y_test, predictions, average='weighted'), 3)\n",
    "MNB_accuracy = round((accuracy_score(y_test, predictions)*100),2)\n",
    "\n",
    "print(\"Accuracy : \" , MNB_accuracy , \" %\")\n",
    "print(\"f1_score : \" , MNB_f1)"
   ]
  },
  {
   "cell_type": "markdown",
   "metadata": {
    "id": "yNABw_coZq0E"
   },
   "source": [
    "### XGBoost"
   ]
  },
  {
   "cell_type": "code",
   "execution_count": 38,
   "metadata": {
    "id": "ZxOchqQ8Zvl5"
   },
   "outputs": [],
   "source": [
    "# Instantiation, fitting and predictions\n",
    "\n",
    "xgb_ = xgb.XGBClassifier(\n",
    " learning_rate =0.1,\n",
    " n_estimators=1000, #No.of trees.\n",
    " max_depth=5,   #Depth of each tree.\n",
    " min_child_weight=1,\n",
    " gamma=0,    #It is set to default 0 as in no regularization.\n",
    " subsample=0.8,\n",
    " colsample_bytree=0.8,\n",
    " objective= 'multi:softmax',     #Output has 3 classifications, softmax used in multi-classification models. \n",
    " nthread=4,          #No.of CPU threads. \n",
    " scale_pos_weight=1,\n",
    " seed= seed)\n",
    "\n",
    "xgb_.fit(X_train, y_train)\n",
    "predictions = xgb_.predict(X_test)"
   ]
  },
  {
   "cell_type": "code",
   "execution_count": 40,
   "metadata": {
    "colab": {
     "base_uri": "https://localhost:8080/"
    },
    "id": "7U_PXYAjQwXG",
    "outputId": "82507486-ae6a-40fd-87c1-51259f52bbed"
   },
   "outputs": [
    {
     "name": "stdout",
     "output_type": "stream",
     "text": [
      "              precision    recall  f1-score   support\n",
      "\n",
      "    negative       0.90      0.84      0.87       790\n",
      "     neutral       0.86      0.73      0.79      1085\n",
      "    positive       0.94      0.98      0.96      5268\n",
      "\n",
      "    accuracy                           0.92      7143\n",
      "   macro avg       0.90      0.85      0.87      7143\n",
      "weighted avg       0.92      0.92      0.92      7143\n",
      "\n",
      "[[ 660   25  105]\n",
      " [  52  795  238]\n",
      " [  24  106 5138]]\n",
      "Accuracy :  92.3  %\n",
      "f1_score :  0.921\n"
     ]
    }
   ],
   "source": [
    "# Model evaluation\n",
    "print(classification_report(y_test, predictions))\n",
    "print(confusion_matrix(y_test, predictions))\n",
    "\n",
    "xgb_f1 = round(f1_score(y_test, predictions, average= 'weighted'), 3)\n",
    "xgb_accuracy = round((accuracy_score(y_test, predictions) * 100), 2)\n",
    "\n",
    "print(\"Accuracy : \" , xgb_accuracy , \" %\")\n",
    "print(\"f1_score : \" , xgb_f1)"
   ]
  },
  {
   "cell_type": "markdown",
   "metadata": {
    "id": "Eha-viWyRTVA"
   },
   "source": [
    "### Random Forest"
   ]
  },
  {
   "cell_type": "code",
   "execution_count": 41,
   "metadata": {
    "id": "s3bbnfG5RZOf"
   },
   "outputs": [],
   "source": [
    "# Instatiation, fitting and predictions\n",
    "\n",
    "from sklearn.ensemble import RandomForestClassifier\n",
    "\n",
    "rfc=RandomForestClassifier(n_estimators= 10, random_state= seed)\n",
    "rfc.fit(X_train, y_train)\n",
    "predictions = rfc.predict(X_test)"
   ]
  },
  {
   "cell_type": "code",
   "execution_count": 42,
   "metadata": {
    "colab": {
     "base_uri": "https://localhost:8080/"
    },
    "id": "wkZEhw62Rkh1",
    "outputId": "a893ddfa-929d-40a6-fcd3-5b1111175b0d"
   },
   "outputs": [
    {
     "name": "stdout",
     "output_type": "stream",
     "text": [
      "              precision    recall  f1-score   support\n",
      "\n",
      "    negative       0.88      0.82      0.85       790\n",
      "     neutral       0.89      0.73      0.80      1085\n",
      "    positive       0.93      0.98      0.95      5268\n",
      "\n",
      "    accuracy                           0.92      7143\n",
      "   macro avg       0.90      0.84      0.87      7143\n",
      "weighted avg       0.92      0.92      0.92      7143\n",
      "\n",
      "[[ 648   16  126]\n",
      " [  50  791  244]\n",
      " [  41   85 5142]]\n",
      "Accuracy :  92.13  %\n",
      "f1_score :  0.919\n"
     ]
    }
   ],
   "source": [
    "# Model evaluation\n",
    "\n",
    "print(classification_report(y_test, predictions))\n",
    "print(confusion_matrix(y_test, predictions))\n",
    "\n",
    "rfc_f1 = round(f1_score(y_test, predictions, average= 'weighted'), 3)\n",
    "rfc_accuracy = round((accuracy_score(y_test, predictions) * 100), 2)\n",
    "\n",
    "print(\"Accuracy : \" , rfc_accuracy , \" %\")\n",
    "print(\"f1_score : \" , rfc_f1)"
   ]
  },
  {
   "cell_type": "markdown",
   "metadata": {
    "id": "JQyOFKIJRgRk"
   },
   "source": [
    "## LSTM - Neural Networks"
   ]
  },
  {
   "cell_type": "markdown",
   "metadata": {
    "id": "OXpra222RJBz"
   },
   "source": [
    "We can apply Sequential API on the data and find out the accuracy for each iteration (EPOCH).\n",
    "This neural network concept comes in handy when we there's a huge data to process."
   ]
  },
  {
   "cell_type": "code",
   "execution_count": 34,
   "metadata": {
    "colab": {
     "base_uri": "https://localhost:8080/"
    },
    "id": "c5ywculbFvri",
    "outputId": "2188f079-61fc-407c-f3c9-238925506374"
   },
   "outputs": [
    {
     "name": "stdout",
     "output_type": "stream",
     "text": [
      "Model: \"sequential\"\n",
      "_________________________________________________________________\n",
      "Layer (type)                 Output Shape              Param #   \n",
      "=================================================================\n",
      "embedding (Embedding)        (None, 4459, 32)          160000    \n",
      "_________________________________________________________________\n",
      "lstm (LSTM)                  (None, 100)               53200     \n",
      "_________________________________________________________________\n",
      "dense (Dense)                (None, 3)                 303       \n",
      "=================================================================\n",
      "Total params: 213,503\n",
      "Trainable params: 213,503\n",
      "Non-trainable params: 0\n",
      "_________________________________________________________________\n",
      "None\n"
     ]
    }
   ],
   "source": [
    "from keras import Sequential\n",
    "from keras.layers import Embedding, LSTM, Dense, Dropout\n",
    "\n",
    "embedding_size=32\n",
    "max_words=5000\n",
    "\n",
    "model = Sequential()\n",
    "model.add(Embedding(max_words, embedding_size, input_length=X_train.shape[1]))\n",
    "model.add(LSTM(100))\n",
    "model.add(Dense(3,activation='softmax'))\n",
    "\n",
    "print(model.summary())"
   ]
  },
  {
   "cell_type": "code",
   "execution_count": 35,
   "metadata": {
    "id": "PimWBnvWFzV3"
   },
   "outputs": [],
   "source": [
    "model.compile(loss='categorical_crossentropy',\n",
    "              optimizer='adam',\n",
    "              metrics=['accuracy'])"
   ]
  },
  {
   "cell_type": "code",
   "execution_count": 36,
   "metadata": {
    "colab": {
     "base_uri": "https://localhost:8080/"
    },
    "id": "i8G4No6GF72i",
    "outputId": "70317630-73e6-4cd6-d6b9-42dbd941270c"
   },
   "outputs": [
    {
     "name": "stdout",
     "output_type": "stream",
     "text": [
      "Shape of Label tensor:  (28571, 3)\n"
     ]
    }
   ],
   "source": [
    "# converting categorical variables in y_train to numerical variables\n",
    "y_train_dummies = pd.get_dummies(y_train).values\n",
    "print('Shape of Label tensor: ', y_train_dummies.shape)"
   ]
  },
  {
   "cell_type": "code",
   "execution_count": null,
   "metadata": {},
   "outputs": [],
   "source": [
    "#train the model\n",
    "model.fit(X_train, y_train_dummies, epochs=5, batch_size=32)"
   ]
  },
  {
   "cell_type": "markdown",
   "metadata": {
    "id": "uaYFwTbOGJ01"
   },
   "source": [
    "The accuracy of LSTM using Sequentical API gives it around 0.75 which is equal to 75%."
   ]
  },
  {
   "cell_type": "markdown",
   "metadata": {
    "id": "ic6ik9YrSL7K"
   },
   "source": [
    "# Final Model - The one which has a better accuracy score."
   ]
  },
  {
   "cell_type": "markdown",
   "metadata": {
    "id": "7f-ZocVdSzxB"
   },
   "source": [
    "XGBoost with the right hyperparameters involved, has give the accuracy score of 92.3%.\n",
    "\n",
    "This model can predict the rating of about 92.3% correctly.\n",
    "\n",
    "Random Forest has the second best score of 92.13%."
   ]
  }
 ],
 "metadata": {
  "accelerator": "GPU",
  "colab": {
   "collapsed_sections": [],
   "name": "Rating Prediction Project.ipynb",
   "provenance": []
  },
  "kernelspec": {
   "display_name": "Python 3",
   "language": "python",
   "name": "python3"
  },
  "language_info": {
   "codemirror_mode": {
    "name": "ipython",
    "version": 3
   },
   "file_extension": ".py",
   "mimetype": "text/x-python",
   "name": "python",
   "nbconvert_exporter": "python",
   "pygments_lexer": "ipython3",
   "version": "3.8.3"
  }
 },
 "nbformat": 4,
 "nbformat_minor": 1
}
